{
  "nbformat": 4,
  "nbformat_minor": 0,
  "metadata": {
    "colab": {
      "provenance": [],
      "authorship_tag": "ABX9TyMT5gtmJbVKWXVa3vEu/2Fl",
      "include_colab_link": true
    },
    "kernelspec": {
      "name": "python3",
      "display_name": "Python 3"
    },
    "language_info": {
      "name": "python"
    }
  },
  "cells": [
    {
      "cell_type": "markdown",
      "metadata": {
        "id": "view-in-github",
        "colab_type": "text"
      },
      "source": [
        "<a href=\"https://colab.research.google.com/github/Itachi8374/Piano-Music-Generation/blob/main/generate_piano_music.ipynb\" target=\"_parent\"><img src=\"https://colab.research.google.com/assets/colab-badge.svg\" alt=\"Open In Colab\"/></a>"
      ]
    },
    {
      "cell_type": "markdown",
      "source": [
        "**Getting dataset**"
      ],
      "metadata": {
        "id": "maDC8Ct51y05"
      }
    },
    {
      "cell_type": "code",
      "execution_count": null,
      "metadata": {
        "id": "F57ivhN3QowE"
      },
      "outputs": [],
      "source": [
        "!wget https://storage.googleapis.com/magentadata/datasets/maestro/v1.0.0/maestro-v1.0.0-midi.zip"
      ]
    },
    {
      "cell_type": "code",
      "source": [
        "!unzip maestro-v1.0.0-midi.zip"
      ],
      "metadata": {
        "id": "9yNPJnyh2Hag"
      },
      "execution_count": null,
      "outputs": []
    }
  ]
}